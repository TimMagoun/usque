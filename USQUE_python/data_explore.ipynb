{
 "cells": [
  {
   "cell_type": "code",
   "execution_count": 1,
   "id": "ea6c197d",
   "metadata": {},
   "outputs": [],
   "source": [
    "import data_gen\n",
    "import numpy as np\n",
    "import matplotlib.pyplot as plt"
   ]
  },
  {
   "cell_type": "code",
   "execution_count": 2,
   "id": "46f78b05",
   "metadata": {},
   "outputs": [],
   "source": [
    "synth_data = data_gen.gen_data()"
   ]
  },
  {
   "cell_type": "code",
   "execution_count": 3,
   "id": "ba8715fa",
   "metadata": {},
   "outputs": [],
   "source": [
    "data_gen.generate_and_save()"
   ]
  },
  {
   "cell_type": "code",
   "execution_count": 6,
   "id": "15480f18",
   "metadata": {},
   "outputs": [],
   "source": [
    "data = np.load(\"data.npz\")"
   ]
  },
  {
   "cell_type": "code",
   "execution_count": 10,
   "id": "dddbef33",
   "metadata": {},
   "outputs": [
    {
     "data": {
      "text/plain": [
       "(1000, 4, 1)"
      ]
     },
     "execution_count": 10,
     "metadata": {},
     "output_type": "execute_result"
    }
   ],
   "source": [
    "data[\"gt_q\"].shape"
   ]
  },
  {
   "cell_type": "code",
   "execution_count": null,
   "id": "db57a692",
   "metadata": {},
   "outputs": [],
   "source": [
    "from scipy.transform"
   ]
  }
 ],
 "metadata": {
  "kernelspec": {
   "display_name": "Python 3 (ipykernel)",
   "language": "python",
   "name": "python3"
  },
  "language_info": {
   "codemirror_mode": {
    "name": "ipython",
    "version": 3
   },
   "file_extension": ".py",
   "mimetype": "text/x-python",
   "name": "python",
   "nbconvert_exporter": "python",
   "pygments_lexer": "ipython3",
   "version": "3.11.3"
  }
 },
 "nbformat": 4,
 "nbformat_minor": 5
}
